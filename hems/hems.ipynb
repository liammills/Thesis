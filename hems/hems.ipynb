{
 "cells": [
  {
   "cell_type": "markdown",
   "metadata": {},
   "source": [
    "# Techno-Economic Feasibility Analysis of Small-Scale PV-Battery System in Australia\n",
    "\n",
    "Description: This project aims to assess the techno-economic feasibility of a small-scale Photovoltaic (PV)-battery system. It investigates factors like electricity pricing, solar irradiance, and battery storage costs to evaluate the system's ROI and sustainability."
   ]
  },
  {
   "cell_type": "markdown",
   "metadata": {},
   "source": [
    "## Objective\n",
    "\n",
    "The primary focus of this project is to develop and optimise a Home Energy Management System (HEMS) aimed at minimising electricity costs for households equipped with rooftop solar and a battery storage system. The objective function aims to determine the optimal times for charging and discharging the battery, subject to equipment constraints and power balance requirements. The specific objectives are:\n",
    "\n",
    "* To model a basic HEMS that allows for control over rooftop solar and battery storage.\n",
    "* To minimise the overall electricity expenditure by leveraging solar energy and battery storage.\n",
    "* To find the optimal times for battery charging and discharging, subject to constraints like no simultaneous charging and discharging.\n",
    "* To perform this analysis at a half-hourly time resolution, considering both energy costs and tariffs for energy sent back to the grid.\n"
   ]
  },
  {
   "cell_type": "markdown",
   "metadata": {},
   "source": [
    "---\n",
    "\n",
    "## Set up\n"
   ]
  },
  {
   "cell_type": "code",
   "execution_count": 35,
   "metadata": {},
   "outputs": [
    {
     "name": "stdout",
     "output_type": "stream",
     "text": [
      "Requirement already satisfied: python-dotenv in /Users/liammills/Library/Caches/pypoetry/virtualenvs/dataprocessing-5wB4BgAT-py3.11/lib/python3.11/site-packages (1.0.0)\n",
      "\n",
      "\u001b[1m[\u001b[0m\u001b[34;49mnotice\u001b[0m\u001b[1;39;49m]\u001b[0m\u001b[39;49m A new release of pip is available: \u001b[0m\u001b[31;49m23.0.1\u001b[0m\u001b[39;49m -> \u001b[0m\u001b[32;49m23.2.1\u001b[0m\n",
      "\u001b[1m[\u001b[0m\u001b[34;49mnotice\u001b[0m\u001b[1;39;49m]\u001b[0m\u001b[39;49m To update, run: \u001b[0m\u001b[32;49mpip install --upgrade pip\u001b[0m\n"
     ]
    }
   ],
   "source": [
    "!pip install python-dotenv"
   ]
  },
  {
   "cell_type": "code",
   "execution_count": 36,
   "metadata": {},
   "outputs": [],
   "source": [
    "import pandas as pd\n",
    "import numpy as np\n",
    "import os\n",
    "import pathlib\n",
    "\n",
    "from amplpy import AMPL, DataFrame, tools\n",
    "from dotenv import load_dotenv\n"
   ]
  },
  {
   "cell_type": "code",
   "execution_count": 37,
   "metadata": {},
   "outputs": [
    {
     "name": "stdout",
     "output_type": "stream",
     "text": [
      "Licensed to Bundle #6115.6438 expiring 20240131: ELEC5213 Engineering Optimisation, Professor Gregor Verbic, The University of Sydney.\n"
     ]
    }
   ],
   "source": [
    "load_dotenv(pathlib.Path.cwd() / '.env')\n",
    "\n",
    "ampl = tools.ampl_notebook(\n",
    "    modules=[\"cplex\"],\n",
    "    license_uuid=os.environ.get('AMPL_UUID'),\n",
    ")"
   ]
  },
  {
   "cell_type": "markdown",
   "metadata": {},
   "source": [
    "---\n",
    "\n",
    "## Pre-process Data\n",
    "\n",
    " - Handled negative PV generation values by setting them to zero.\n",
    " - Converted total_load from kW to kWh, assuming each time step is 30 minutes.\n",
    " - Converted pv_generation from kW to kWh, assuming each time step is 30 minutes.\n",
    " - Calculated net_load as total_load - pv_generation."
   ]
  },
  {
   "cell_type": "code",
   "execution_count": 38,
   "metadata": {},
   "outputs": [
    {
     "name": "stdout",
     "output_type": "stream",
     "text": [
      "                             site_id  pv_generation  total_load  \\\n",
      "utc_timestamp                                                     \n",
      "2018-12-31 13:00:00+00:00  152786204            0.0   28.504320   \n",
      "2018-12-31 13:30:00+00:00  152786204            0.0   27.113783   \n",
      "2018-12-31 14:00:00+00:00  152786204            0.0   21.089683   \n",
      "\n",
      "                                           localtime  total_load_kWh  \\\n",
      "utc_timestamp                                                          \n",
      "2018-12-31 13:00:00+00:00  2019-01-01 00:00:00+11:00       14.252160   \n",
      "2018-12-31 13:30:00+00:00  2019-01-01 00:30:00+11:00       13.556892   \n",
      "2018-12-31 14:00:00+00:00  2019-01-01 01:00:00+11:00       10.544842   \n",
      "\n",
      "                           pv_generation_kWh  net_load_kWh  \n",
      "utc_timestamp                                               \n",
      "2018-12-31 13:00:00+00:00                0.0     14.252160  \n",
      "2018-12-31 13:30:00+00:00                0.0     13.556892  \n",
      "2018-12-31 14:00:00+00:00                0.0     10.544842  \n"
     ]
    }
   ],
   "source": [
    "site_id = 152786204\n",
    "df = pd.read_csv(f'data/HalfHourly_PV_Load_Data/halfhourly_{site_id}.csv')\n",
    "assert df['site_id'][0] == site_id\n",
    "\n",
    "df['utc_timestamp'] = pd.to_datetime(df['utc_timestamp'])\n",
    "df['localtime'] = pd.to_datetime(df['localtime'])\n",
    "\n",
    "df.set_index('utc_timestamp', inplace=True)\n",
    "\n",
    "df['pv_generation'] = df['pv_generation'].apply(lambda x: max(0, x)) # set negative values to zero\n",
    "\n",
    "df['total_load_kWh'] = df['total_load'] * 0.5  # for 30 minute intervals\n",
    "df['pv_generation_kWh'] = df['pv_generation'] * 0.5  # for 30 minute intervals\n",
    "\n",
    "df['net_load_kWh'] = df['total_load_kWh'] - df['pv_generation_kWh']\n",
    "\n",
    "print(df.head(3))\n"
   ]
  },
  {
   "cell_type": "markdown",
   "metadata": {},
   "source": [
    "---\n",
    "\n",
    "## Set parameters\n",
    "\n"
   ]
  },
  {
   "cell_type": "code",
   "execution_count": 39,
   "metadata": {},
   "outputs": [],
   "source": [
    "slots_per_day = 48\n",
    "num_days = 1\n",
    "num_time_slots = slots_per_day * num_days\n",
    "\n",
    "# Tariffs in $/kWh\n",
    "time_of_use_tariff = 0.27  # c_g - constant value for now, but replace with csv data from Ausgrid\n",
    "flat_tariff = 0.25  # c_flat\n",
    "feed_in_tariff = 0.05  # c_pv\n",
    "\n",
    "demand_data = df['total_load_kWh'][:num_time_slots].values  # Pd\n",
    "pv_data = df['pv_generation_kWh'][:num_time_slots].values  # Ppv\n",
    "\n",
    "battery_max_storage = 10.0  # ebM, in kWh\n",
    "battery_min_storage = 0.0\n",
    "battery_max_charge_rate = 5.0  # PbM, in kW\n",
    "battery_max_discharge_rate = 5.0  # Pbm, in kW\n",
    "\n",
    "battery_charge_efficiency = np.sqrt(0.84) # etaBc\n",
    "battery_discharge_efficiency = battery_charge_efficiency  # etaBd"
   ]
  },
  {
   "cell_type": "markdown",
   "metadata": {},
   "source": [
    "---\n",
    "\n",
    "## Model Formulation\n",
    "\n",
    "### Indices\n",
    "\n",
    "$i, j \\in \\text{Households})$: Index to represent individual households\n",
    "\n",
    "$t \\in \\text{Time Periods})$: Index to represent different time periods\n",
    "\n",
    "### Parameters\n",
    "\n",
    "$c_t$: Cost for electricity from the grid at time *t*\n",
    "\n",
    "$s_t$: Solar power generated at time *t*\n",
    "\n",
    "$d_t$: Demand for electricity at household *i* at time *t*\n",
    "\n",
    "$r_t$: Tariff for power sent back to the grid at time *t*\n",
    "\n",
    "### Decision Variables\n",
    "\n",
    "$p_t$: Power drawn from the grid at time *t*\n",
    "\n",
    "$b_t$: Battery state (charging/discharging) at time $t$\n",
    "\n",
    "### Objective Function\n",
    "\n",
    "- **Cost Minimisation**: The objective is to minimise the total electricity cost for the household, while considering tariffs for power sent back to the grid.\n",
    "\n",
    "\\begin{equation}\n",
    "\\text{Minimize: } C(p, b) = \\sum_{t} (p_{t} \\times c_{t}) - (s_{t} - d_{t}) \\times r_{t}\n",
    "\\end{equation}\n",
    "\n",
    "### Constraints\n",
    "\n",
    "1. **Power Balance**: The power drawn from the grid, plus solar, should meet the demand.\n",
    "\n",
    "\\begin{equation}\n",
    "p_{t} + s_{t} = d_{t}\n",
    "\\end{equation}\n",
    "\n",
    "2. **Battery Operations**: No simultaneous charging and discharging.\n",
    "\n",
    "\\begin{equation}\n",
    "\\text{If } b_{t} = \\text{charging, then } b_{t} \\neq \\text{discharging}\n",
    "\\end{equation}\n",
    "\n",
    "3. **Half-Hourly Resolution**: All variables and parameters are considered at a half-hourly time resolution.\n",
    "\n",
    "\\begin{equation}\n",
    "\\forall t \\in \\text{Half-hour intervals}\n",
    "\\end{equation}\n"
   ]
  },
  {
   "cell_type": "code",
   "execution_count": 40,
   "metadata": {},
   "outputs": [
    {
     "ename": "KeyError",
     "evalue": "'An entity called D cannot be found.'",
     "output_type": "error",
     "traceback": [
      "\u001b[0;31m---------------------------------------------------------------------------\u001b[0m",
      "\u001b[0;31mKeyError\u001b[0m                                  Traceback (most recent call last)",
      "Cell \u001b[0;32mIn[40], line 1\u001b[0m\n\u001b[0;32m----> 1\u001b[0m days_set \u001b[39m=\u001b[39m ampl\u001b[39m.\u001b[39;49mgetSet(\u001b[39m'\u001b[39;49m\u001b[39mD\u001b[39;49m\u001b[39m'\u001b[39;49m)\n\u001b[1;32m      2\u001b[0m \u001b[39mprint\u001b[39m(days_set)\n\u001b[1;32m      4\u001b[0m \u001b[39m# df = DataFrame(('D',), time_slots_two_days)\u001b[39;00m\n\u001b[1;32m      5\u001b[0m \n\u001b[1;32m      6\u001b[0m \u001b[39m# Dummy data - replace these with actual data\u001b[39;00m\n\u001b[1;32m      7\u001b[0m \u001b[39m# PV = np.zeros((DAILY_TIME_SLOTS_AMT*DAYS_IN_WEEK + 2*DAILY_TIME_SLOTS_AMT, CUSTOMERS_AMT))\u001b[39;00m\n\u001b[1;32m      8\u001b[0m \u001b[39m# PD = np.zeros((DAILY_TIME_SLOTS_AMT*DAYS_IN_WEEK + 2*DAILY_TIME_SLOTS_AMT, CUSTOMERS_AMT))\u001b[39;00m\n",
      "File \u001b[0;32m~/Library/Caches/pypoetry/virtualenvs/dataprocessing-5wB4BgAT-py3.11/lib/python3.11/site-packages/amplpy/ampl.py:224\u001b[0m, in \u001b[0;36mAMPL.get_set\u001b[0;34m(self, name)\u001b[0m\n\u001b[1;32m    214\u001b[0m \u001b[39mdef\u001b[39;00m \u001b[39mget_set\u001b[39m(\u001b[39mself\u001b[39m, name):\n\u001b[1;32m    215\u001b[0m \u001b[39m    \u001b[39m\u001b[39m\"\"\"\u001b[39;00m\n\u001b[1;32m    216\u001b[0m \u001b[39m    Get the set with the corresponding name.\u001b[39;00m\n\u001b[1;32m    217\u001b[0m \n\u001b[0;32m   (...)\u001b[0m\n\u001b[1;32m    222\u001b[0m \u001b[39m        KeyError: if the specified set does not exist.\u001b[39;00m\n\u001b[1;32m    223\u001b[0m \u001b[39m    \"\"\"\u001b[39;00m\n\u001b[0;32m--> 224\u001b[0m     \u001b[39mreturn\u001b[39;00m Set(\u001b[39mself\u001b[39;49m\u001b[39m.\u001b[39;49m_impl\u001b[39m.\u001b[39;49mgetSet(name))\n",
      "\u001b[0;31mKeyError\u001b[0m: 'An entity called D cannot be found.'"
     ]
    }
   ],
   "source": [
    "\n",
    "# days_set = ampl.getSet('D')\n",
    "# print(days_set)\n",
    "\n",
    "# df = DataFrame(('D',), time_slots_two_days)\n",
    "\n",
    "# Dummy data - replace these with actual data\n",
    "# PV = np.zeros((DAILY_TIME_SLOTS_AMT*DAYS_IN_WEEK + 2*DAILY_TIME_SLOTS_AMT, CUSTOMERS_AMT))\n",
    "# PD = np.zeros((DAILY_TIME_SLOTS_AMT*DAYS_IN_WEEK + 2*DAILY_TIME_SLOTS_AMT, CUSTOMERS_AMT))"
   ]
  },
  {
   "cell_type": "code",
   "execution_count": null,
   "metadata": {},
   "outputs": [],
   "source": [
    "# PV Sizes for 52 customers in kW\n",
    "pv_sizes = [5, 4, 5, 3, 6, 6, 5, 4, 4, 9, 3, 4, 8, 4, 6, 5, 10, 5, 4, 4, 5, 4, 7, 4, 4, 4, 5, 7, 7, 5, 5, 4, 5, 3, 5, 5, 5, 10, 5, 5, 7, 5, 5, 3, 6, 3, 4, 5, 5, 5, 4, 4]\n",
    "\n",
    "# Battery stats for three types of EVs (soc = state of charge)\n",
    "max_soc = [40, 40, 40]\n",
    "min_soc = [0.6, 1.0, 0.5]\n",
    "max_charge_discharge_rate = [4.2, 5.0, 5.0]  # Maximum charge/discharge rates\n",
    "charge_discharge_efficiency = np.sqrt([0.9, 0.9, 0.9])  # Charge and discharge efficiencies\n",
    "initial_soc = [x / 2 for x in max_soc]"
   ]
  }
 ],
 "metadata": {
  "kernelspec": {
   "display_name": "dataprocessing-5wB4BgAT-py3.11",
   "language": "python",
   "name": "python3"
  },
  "language_info": {
   "codemirror_mode": {
    "name": "ipython",
    "version": 3
   },
   "file_extension": ".py",
   "mimetype": "text/x-python",
   "name": "python",
   "nbconvert_exporter": "python",
   "pygments_lexer": "ipython3",
   "version": "3.11.4"
  },
  "orig_nbformat": 4
 },
 "nbformat": 4,
 "nbformat_minor": 2
}
